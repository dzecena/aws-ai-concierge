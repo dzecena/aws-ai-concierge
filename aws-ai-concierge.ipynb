{
 "cells": [
  {
   "cell_type": "markdown",
   "id": "setup-guide",
   "metadata": {},
   "source": [
    "# AWS AI Concierge - Setup and Deployment Guide\n",
    "\n",
    "This notebook provides step-by-step instructions to deploy the AWS AI Concierge using Amazon Bedrock and Lambda.\n",
    "\n",
    "## Prerequisites\n",
    "\n",
    "Before starting, ensure you have:\n",
    "- AWS Account with administrator access\n",
    "- AWS CLI installed and configured\n",
    "- Node.js (v18 or later) and npm installed\n",
    "- Python 3.9+ installed\n",
    "- Git installed"
   ]
  },
  {
   "cell_type": "markdown",
   "id": "permissions-setup",
   "metadata": {},
   "source": [
    "## Step 1: Required AWS Permissions and IAM Setup\n",
    "\n",
    "Even with administrator access, you may need specific permissions for Bedrock and CDK operations.\n",
    "\n",
    "### Required IAM Permissions\n",
    "\n",
    "Your user/role needs these permissions beyond standard administrator access:"
   ]
  },
  {
   "cell_type": "code",
   "execution_count": null,
   "id": "check-permissions",
   "metadata": {},
   "outputs": [],
   "source": [
    "# First, let's check your current AWS identity and permissions\n",
    "import boto3\n",
    "import json\n",
    "\n",
    "# Check current AWS identity\n",
    "sts = boto3.client('sts')\n",
    "identity = sts.get_caller_identity()\n",
    "print(f\"Current AWS Identity:\")\n",
    "print(f\"Account: {identity['Account']}\")\n",
    "print(f\"User/Role ARN: {identity['Arn']}\")\n",
    "print(f\"User ID: {identity['UserId']}\")"
   ]
  },
  {
   "cell_type": "markdown",
   "id": "bedrock-permissions",
   "metadata": {},
   "source": [
    "### Enable Amazon Bedrock Model Access\n",
    "\n",
    "**CRITICAL**: Even with admin access, you must explicitly enable Bedrock models in your account."
   ]
  },
  {
   "cell_type": "code",
   "execution_count": null,
   "id": "check-bedrock-access",
   "metadata": {},
   "outputs": [],
   "source": [
    "# Check if Bedrock is accessible and which models are available\n",
    "try:\n",
    "    bedrock = boto3.client('bedrock', region_name='us-east-1')\n",
    "    \n",
    "    # List available foundation models\n",
    "    models = bedrock.list_foundation_models()\n",
    "    print(f\"Found {len(models['modelSummaries'])} available models\")\n",
    "    \n",
    "    # Check for Claude 3 Haiku specifically\n",
    "    claude_models = [m for m in models['modelSummaries'] if 'claude-3-haiku' in m['modelId']]\n",
    "    if claude_models:\n",
    "
